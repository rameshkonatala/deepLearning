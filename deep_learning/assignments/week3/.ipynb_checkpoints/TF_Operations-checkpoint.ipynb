{
 "cells": [
  {
   "cell_type": "code",
   "execution_count": 2,
   "metadata": {},
   "outputs": [],
   "source": [
    "import os\n",
    "os.environ['TF_CPP_MIN_LOG_LEVEL']='2' # no warning\n",
    "import tensorflow as tf"
   ]
  },
  {
   "cell_type": "markdown",
   "metadata": {},
   "source": [
    "Create two random 0-d tensors x and y of any distribution. The output should be the sum. We do the first two problem for you:"
   ]
  },
  {
   "cell_type": "code",
   "execution_count": 3,
   "metadata": {},
   "outputs": [
    {
     "name": "stdout",
     "output_type": "stream",
     "text": [
      "0.08197737\n",
      "0.7123331\n",
      "1.1196841\n"
     ]
    }
   ],
   "source": [
    "sess = tf.InteractiveSession()\n",
    "x = tf.random_uniform([])  # Empty array as shape creates a scalar.\n",
    "y = tf.random_uniform([])\n",
    "out = tf.add(x,y)\n",
    "print(x.eval())\n",
    "print(y.eval())\n",
    "print(out.eval())"
   ]
  },
  {
   "cell_type": "markdown",
   "metadata": {},
   "source": [
    "Now try to look at variable x and y. What do you notice?\n",
    "\n",
    "\n",
    "You can see that they do not \n",
    "give the result of your calculation. The reason is that:\n",
    "TensorFlow has several ops that create random tensors with different distributions.\n",
    "The random ops are stateful, and create new random values each time they are evaluated.\n",
    "To fix this we can use tf.Variables or you can run x,y and out in the same time, see the example below."
   ]
  },
  {
   "cell_type": "code",
   "execution_count": 4,
   "metadata": {},
   "outputs": [
    {
     "name": "stdout",
     "output_type": "stream",
     "text": [
      "0.36288583\n",
      "0.14610791\n",
      "0.50899374\n"
     ]
    }
   ],
   "source": [
    "x = tf.Variable(tf.random_uniform([]))  # Empty array as shape creates a scalar.\n",
    "y = tf.Variable(tf.random_uniform([]))\n",
    "init_op = tf.global_variables_initializer() # Init function\n",
    "out = tf.add(x,y)\n",
    "sess.run(init_op) # first init vars\n",
    "print(x.eval())\n",
    "print(y.eval())\n",
    "print(out.eval())"
   ]
  },
  {
   "cell_type": "markdown",
   "metadata": {},
   "source": [
    "Observe that now the calculation is correct. You can also use a normal session if you prefer, see below"
   ]
  },
  {
   "cell_type": "code",
   "execution_count": 5,
   "metadata": {},
   "outputs": [
    {
     "name": "stdout",
     "output_type": "stream",
     "text": [
      "0.051029563\n",
      "0.95928776\n",
      "1.0103173\n"
     ]
    }
   ],
   "source": [
    "with tf.Session() as sess:\n",
    "\n",
    "    x = tf.random_uniform([])  # Empty array as shape creates a scalar.\n",
    "    y = tf.random_uniform([])\n",
    "    out = tf.add(x, y)\n",
    "    x_out, y_out, out_out = sess.run([x,y,out])\n",
    "    print(x_out)\n",
    "    print(y_out)\n",
    "    print(out_out)"
   ]
  },
  {
   "cell_type": "markdown",
   "metadata": {
    "collapsed": true
   },
   "source": [
    "1a: Create two random 0-d tensors x and y of any distribution.\n",
    "Create a TensorFlow object that returns x + y if x > y, and x - y otherwise.\n",
    "Hint: look up tf.cond()\n",
    "We also show you how to do this one:"
   ]
  },
  {
   "cell_type": "code",
   "execution_count": 6,
   "metadata": {},
   "outputs": [
    {
     "name": "stdout",
     "output_type": "stream",
     "text": [
      "0.29666758\n",
      "0.040057182\n",
      "0.33672476\n"
     ]
    }
   ],
   "source": [
    "sess1 = tf.InteractiveSession()\n",
    "x = tf.Variable(tf.random_uniform([]))  # Empty array as shape creates a scalar.\n",
    "y = tf.Variable(tf.random_uniform([]))\n",
    "init_op = tf.global_variables_initializer()\n",
    "out = tf.cond(tf.greater(x, y), lambda: tf.add(x, y), lambda: tf.subtract(x, y))\n",
    "sess1.run(init_op)\n",
    "print(x.eval())\n",
    "print(y.eval())\n",
    "print(out.eval())\n",
    "sess1.close()"
   ]
  },
  {
   "cell_type": "markdown",
   "metadata": {},
   "source": [
    "1b: Create two 0-d tensors x and y randomly selected from the range [-1, 1).\n",
    "Return x + y if x < y, x - y if x > y, 0 otherwise.\n",
    "Hint: Look up tf.case()."
   ]
  },
  {
   "cell_type": "code",
   "execution_count": 7,
   "metadata": {},
   "outputs": [
    {
     "name": "stdout",
     "output_type": "stream",
     "text": [
      "0.77880764\n",
      "0.3157606\n",
      "0.46304703\n"
     ]
    }
   ],
   "source": [
    "sess2 = tf.InteractiveSession()\n",
    "x = tf.Variable(tf.random_uniform([],-1,1))\n",
    "y = tf.Variable(tf.random_uniform([],-1,1))\n",
    "init_op = tf.global_variables_initializer()\n",
    "out = tf.cond(tf.greater(x,y),lambda:tf.subtract(x,y),lambda:tf.add(x,y))\n",
    "sess2.run(init_op)\n",
    "print(x.eval())\n",
    "print(y.eval())\n",
    "print(out.eval())\n",
    "sess2.close()"
   ]
  },
  {
   "cell_type": "markdown",
   "metadata": {},
   "source": [
    "1c: Create the tensor x of the value [[0, -2, -1], [0, 1, 2]] \n",
    "and y as a tensor of zeros with the same shape as x.\n",
    "Return a boolean tensor that yields Trues if x equals y element-wise.\n",
    "Hint: Look up tf.equal()."
   ]
  },
  {
   "cell_type": "code",
   "execution_count": 8,
   "metadata": {},
   "outputs": [
    {
     "name": "stdout",
     "output_type": "stream",
     "text": [
      "[[ 0 -2 -1]\n",
      " [ 0  1  2]]\n",
      "[[0 0 0]\n",
      " [0 0 0]]\n",
      "[[ True False False]\n",
      " [ True False False]]\n"
     ]
    }
   ],
   "source": [
    "sess3 = tf.InteractiveSession()\n",
    "x = tf.Variable([[0, -2, -1], [0, 1, 2]])\n",
    "y = tf.zeros_like(x)\n",
    "opt = tf.equal(\n",
    "    x,\n",
    "    y,\n",
    "    name=None\n",
    ")\n",
    "init_op = tf.global_variables_initializer()\n",
    "sess3.run(init_op)\n",
    "print(x.eval())\n",
    "print(y.eval())\n",
    "print(opt.eval())\n",
    "sess3.close()"
   ]
  },
  {
   "cell_type": "markdown",
   "metadata": {
    "collapsed": true
   },
   "source": [
    "1d: Use the tensor x given below.\n",
    "Get the indices of elements in x whose values are greater than 30.\n",
    "Hint: Use tf.where().\n",
    "Then extract elements whose values are greater than 30.\n",
    "Hint: Use tf.gather()."
   ]
  },
  {
   "cell_type": "code",
   "execution_count": 13,
   "metadata": {},
   "outputs": [
    {
     "name": "stdout",
     "output_type": "stream",
     "text": [
      "[[ 2]\n",
      " [ 4]\n",
      " [ 6]\n",
      " [ 8]\n",
      " [ 9]\n",
      " [11]\n",
      " [14]\n",
      " [16]\n",
      " [18]]\n",
      "[[31.190735]\n",
      " [30.97266 ]\n",
      " [38.084503]\n",
      " [34.944454]\n",
      " [34.45999 ]\n",
      " [36.01657 ]\n",
      " [30.20379 ]\n",
      " [33.711494]\n",
      " [36.055565]]\n"
     ]
    }
   ],
   "source": [
    "sess4 = tf.InteractiveSession()\n",
    "x = tf.constant([29.05088806,  27.61298943,  31.19073486,  29.35532951,\n",
    "\t\t        30.97266006,  26.67541885,  38.08450317,  20.74983215,\n",
    "\t\t        34.94445419,  34.45999146,  29.06485367,  36.01657104,\n",
    "\t\t        27.88236427,  20.56035233,  30.20379066,  29.51215172,\n",
    "\t\t        33.71149445,  28.59134293,  36.05556488,  28.66994858])\n",
    "y = tf.where(x>30)\n",
    "z = tf.gather(x,y)\n",
    "print(y.eval())\n",
    "print(z.eval())\n",
    "sess4.close()"
   ]
  },
  {
   "cell_type": "markdown",
   "metadata": {},
   "source": [
    "1e: Create a diagnoal 2-d tensor of size 6 x 6 with the diagonal values of 1,\n",
    "2, ..., 6\n",
    "Hint: Use tf.range() and tf.diag()."
   ]
  },
  {
   "cell_type": "code",
   "execution_count": 15,
   "metadata": {},
   "outputs": [
    {
     "name": "stdout",
     "output_type": "stream",
     "text": [
      "[[1 0 0 0 0 0]\n",
      " [0 2 0 0 0 0]\n",
      " [0 0 3 0 0 0]\n",
      " [0 0 0 4 0 0]\n",
      " [0 0 0 0 5 0]\n",
      " [0 0 0 0 0 6]]\n"
     ]
    }
   ],
   "source": [
    "ran = tf.range(1,7,1)\n",
    "x = tf.diag(ran)\n",
    "print(x.eval())"
   ]
  },
  {
   "cell_type": "markdown",
   "metadata": {},
   "source": [
    "1f: Create a random 2-d tensor of size 10 x 10 from any distribution.\n",
    "Calculate its determinant.\n",
    "Hint: Look at tf.matrix_determinant()."
   ]
  },
  {
   "cell_type": "code",
   "execution_count": 24,
   "metadata": {},
   "outputs": [
    {
     "name": "stdout",
     "output_type": "stream",
     "text": [
      "[[0.7140032  0.51937246 0.51099634 0.5493525  0.84858966 0.5415126\n",
      "  0.6414683  0.1673826  0.27645433 0.26956654]\n",
      " [0.00287139 0.3538648  0.98332524 0.7985915  0.34319556 0.58136404\n",
      "  0.93569434 0.9654541  0.3672291  0.46427894]\n",
      " [0.6239389  0.13721514 0.4365548  0.09077096 0.86143076 0.20224571\n",
      "  0.56747913 0.8036746  0.8689141  0.7708293 ]\n",
      " [0.26493287 0.9164628  0.80329883 0.7086811  0.03713536 0.42298555\n",
      "  0.85527706 0.61061037 0.5320908  0.5323057 ]\n",
      " [0.16729653 0.00977409 0.3681177  0.17844748 0.18716216 0.94372654\n",
      "  0.29333544 0.13748002 0.71874595 0.08269179]\n",
      " [0.7320868  0.27431476 0.0766834  0.47121167 0.06442261 0.3626554\n",
      "  0.84890676 0.9923383  0.4007157  0.7163614 ]\n",
      " [0.1311711  0.19461036 0.46812034 0.3531803  0.05374575 0.5705708\n",
      "  0.9749639  0.7052152  0.91423464 0.637349  ]\n",
      " [0.4528545  0.729264   0.34014118 0.55561876 0.11946416 0.6667528\n",
      "  0.5095016  0.8162676  0.525149   0.17462158]\n",
      " [0.8468456  0.75359905 0.10612047 0.52815926 0.67720115 0.20487487\n",
      "  0.5676074  0.10876071 0.24113595 0.9204565 ]\n",
      " [0.29945338 0.06834388 0.9274329  0.75807345 0.44931638 0.66449726\n",
      "  0.87542593 0.32615638 0.8919244  0.3274585 ]]\n",
      "\n",
      " determinant is 0.0305667184293\n"
     ]
    }
   ],
   "source": [
    "x = tf.random_uniform((10,10))\n",
    "z = tf.matrix_determinant(x)\n",
    "print(x.eval())\n",
    "print(\"\\n determinant is {}\".format(z.eval()))"
   ]
  },
  {
   "cell_type": "markdown",
   "metadata": {},
   "source": [
    "1g: Create tensor x with value [5, 2, 3, 5, 10, 6, 2, 3, 4, 2, 1, 1, 0, 9].\n",
    "Return the unique elements in x\n",
    "Hint: use tf.unique(). Keep in mind that tf.unique() returns a tuple."
   ]
  },
  {
   "cell_type": "code",
   "execution_count": 32,
   "metadata": {},
   "outputs": [
    {
     "name": "stdout",
     "output_type": "stream",
     "text": [
      "[ 5  2  3  5 10  6  2  3  4  2  1  1  0  9]\n",
      "[ 5  2  3 10  6  4  1  0  9]\n"
     ]
    }
   ],
   "source": [
    "sess = tf.InteractiveSession()\n",
    "x = tf.Variable([5, 2, 3, 5, 10, 6, 2, 3, 4, 2, 1, 1, 0, 9])\n",
    "init = tf.global_variables_initializer()\n",
    "sess.run(init)\n",
    "z,_ = tf.unique(x)\n",
    "print(x.eval())\n",
    "print(z.eval())"
   ]
  },
  {
   "cell_type": "markdown",
   "metadata": {},
   "source": [
    "1h: Create two tensors x and y of shape 300 from any normal distribution,\n",
    "as long as they are from the same distribution.\n",
    "Use tf.cond() to return:\n",
    "- The mean squared error of (x - y) if the average of all elements in (x - y)\n",
    "  is negative, or\n",
    "- The sum of absolute value of all elements in the tensor (x - y) otherwise.\n",
    "Hint: see the Huber loss function in the lecture slides 3."
   ]
  },
  {
   "cell_type": "code",
   "execution_count": 44,
   "metadata": {},
   "outputs": [
    {
     "name": "stdout",
     "output_type": "stream",
     "text": [
      "25.379845\n"
     ]
    }
   ],
   "source": [
    "sess = tf.InteractiveSession()\n",
    "x = tf.random_uniform((300,1))\n",
    "y = tf.random_uniform((300,1))\n",
    "z = tf.subtract(x,y)\n",
    "avg = tf.reduce_mean(z)\n",
    "init = tf.global_variables_initializer()\n",
    "sess.run(init)\n",
    "out = tf.cond(avg.eval()>0,lambda:tf.nn.l2_loss(z),lambda:tf.reduce_mean(tf.abs(z)))\n",
    "print(out.eval())"
   ]
  },
  {
   "cell_type": "code",
   "execution_count": null,
   "metadata": {},
   "outputs": [],
   "source": []
  }
 ],
 "metadata": {
  "kernelspec": {
   "display_name": "Python 2",
   "language": "python",
   "name": "python2"
  },
  "language_info": {
   "codemirror_mode": {
    "name": "ipython",
    "version": 2
   },
   "file_extension": ".py",
   "mimetype": "text/x-python",
   "name": "python",
   "nbconvert_exporter": "python",
   "pygments_lexer": "ipython2",
   "version": "2.7.12"
  }
 },
 "nbformat": 4,
 "nbformat_minor": 1
}
