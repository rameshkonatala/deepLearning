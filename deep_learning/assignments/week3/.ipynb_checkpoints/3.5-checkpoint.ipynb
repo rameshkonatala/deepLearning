{
 "cells": [
  {
   "cell_type": "code",
   "execution_count": 1,
   "metadata": {},
   "outputs": [],
   "source": [
    "import tensorflow as tf\n"
   ]
  },
  {
   "cell_type": "code",
   "execution_count": 2,
   "metadata": {},
   "outputs": [],
   "source": [
    "sess = tf.InteractiveSession()\n",
    "W = tf.placeholder(tf.float32, shape=(10, 784))\n",
    "x = tf.placeholder(tf.float32, shape=(784, 1))\n",
    "y = tf.placeholder(tf.float32, shape=(10, 1))\n",
    "b = tf.placeholder(tf.float32, shape=(10, 1))\n",
    "z = tf.nn.softmax(tf.add(tf.multiply(W,x),b))\n",
    "writer = tf.summary.FileWriter('./graphs/nn', tf.get_default_graph())\n"
   ]
  },
  {
   "cell_type": "code",
   "execution_count": null,
   "metadata": {},
   "outputs": [],
   "source": []
  }
 ],
 "metadata": {
  "kernelspec": {
   "display_name": "Python 2",
   "language": "python",
   "name": "python2"
  },
  "language_info": {
   "codemirror_mode": {
    "name": "ipython",
    "version": 2
   },
   "file_extension": ".py",
   "mimetype": "text/x-python",
   "name": "python",
   "nbconvert_exporter": "python",
   "pygments_lexer": "ipython2",
   "version": "2.7.12"
  }
 },
 "nbformat": 4,
 "nbformat_minor": 2
}
